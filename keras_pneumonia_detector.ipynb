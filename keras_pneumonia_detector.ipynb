{
 "metadata": {
  "language_info": {
   "codemirror_mode": {
    "name": "ipython",
    "version": 3
   },
   "file_extension": ".py",
   "mimetype": "text/x-python",
   "name": "python",
   "nbconvert_exporter": "python",
   "pygments_lexer": "ipython3",
   "version": "3.8.5-final"
  },
  "orig_nbformat": 2,
  "kernelspec": {
   "name": "python3",
   "display_name": "Python 3.8.5 64-bit (conda)",
   "metadata": {
    "interpreter": {
     "hash": "d7ebc6ada24cc9534b2d592d0970f4826ac2b0fb65472f81fe2df442270f7538"
    }
   }
  }
 },
 "nbformat": 4,
 "nbformat_minor": 2,
 "cells": [
  {
   "cell_type": "code",
   "execution_count": 2,
   "metadata": {},
   "outputs": [],
   "source": [
    "# importing libs\n",
    "import seaborn as sns\n",
    "import tqdm\n",
    "from tqdm import tqdm\n",
    "import sklearn\n",
    "from sklearn.metrics import *\n",
    "from keras.models import Sequential\n",
    "from keras.layers import Conv2D, MaxPooling2D, Flatten, Dense, Dropout\n",
    "from keras.layers.normalization import BatchNormalization\n",
    "from keras.preprocessing.image import ImageDataGenerator\n",
    "from keras.preprocessing import image\n",
    "import matplotlib.pyplot as plt\n",
    "import matplotlib.image as mpimg"
   ]
  },
  {
   "cell_type": "code",
   "execution_count": 3,
   "metadata": {},
   "outputs": [],
   "source": [
    "val_files = os.listdir('val/')\n",
    "id = []\n",
    "result = []"
   ]
  },
  {
   "cell_type": "code",
   "execution_count": 5,
   "metadata": {},
   "outputs": [],
   "source": [
    "for i in range(0,len(val_files),1):\n",
    "    a = val_files[i].replace('.jpeg','')\n",
    "    id.append(a)\n",
    "    if a.find('NORMAL'):\n",
    "        result.append(1)\n",
    "    else:\n",
    "        result.append(0)"
   ]
  },
  {
   "cell_type": "code",
   "execution_count": 6,
   "metadata": {},
   "outputs": [],
   "source": [
    "normal_xray = len(os.listdir('train/NORMAL'))\n",
    "sick_xray = len(os.listdir('train/PNEUMONIA'))\n",
    "number_train = normal_xray + sick_xray"
   ]
  },
  {
   "cell_type": "code",
   "execution_count": 7,
   "metadata": {},
   "outputs": [],
   "source": [
    "normal_xray_test = len(os.listdir('test/NORMAL'))\n",
    "sick_xray_test = len(os.listdir('test/PNEUMONIA'))\n",
    "number_test = normal_xray_test + sick_xray_test"
   ]
  },
  {
   "cell_type": "code",
   "execution_count": 8,
   "metadata": {},
   "outputs": [],
   "source": [
    "# building CNN with Keras\n",
    "clf = Sequential()\n",
    "clf.add(Conv2D(64, (3,3), input_shape = (64, 64, 3), activation = 'relu'))\n",
    "clf.add(BatchNormalization())\n",
    "clf.add(MaxPooling2D(pool_size = (2,2)))\n",
    "\n",
    "clf.add(Conv2D(64, (3,3), input_shape = (64, 64, 3), activation = 'sigmoid'))\n",
    "clf.add(BatchNormalization())\n",
    "clf.add(MaxPooling2D(pool_size = (2,2)))\n",
    "\n",
    "clf.add(Conv2D(64, (3,3), input_shape = (64, 64, 3), activation = 'relu'))\n",
    "clf.add(BatchNormalization())\n",
    "clf.add(MaxPooling2D(pool_size = (2,2)))\n",
    "\n",
    "clf.add(Flatten())\n",
    "\n",
    "clf.add(Dense(units = 128, activation = 'relu'))\n",
    "clf.add(Dropout(0.2))\n",
    "clf.add(Dense(units = 128, activation = 'relu'))\n",
    "clf.add(Dropout(0.2))\n",
    "clf.add(Dense(units = 128, activation = 'relu'))\n",
    "clf.add(Dropout(0.2))\n",
    "clf.add(Dense(units = 128, activation = 'relu'))\n",
    "clf.add(Dropout(0.2))\n",
    "clf.add(Dense(units = 128, activation = 'relu'))\n",
    "clf.add(Dropout(0.2))\n",
    "clf.add(Dense(units = 128, activation = 'relu'))\n",
    "clf.add(Dropout(0.2))\n",
    "clf.add(Dense(units = 128, activation = 'relu'))\n",
    "clf.add(Dropout(0.2))\n",
    "clf.add(Dense(units = 128, activation = 'relu'))\n",
    "clf.add(Dropout(0.2))\n",
    "clf.add(Dense(units = 128, activation = 'relu'))\n",
    "clf.add(Dropout(0.2))\n",
    "clf.add(Dense(units = 128, activation = 'relu'))\n",
    "clf.add(Dropout(0.2))\n",
    "clf.add(Dense(units = 128, activation = 'relu'))\n",
    "clf.add(Dropout(0.2))\n",
    "clf.add(Dense(units = 1, activation = 'sigmoid'))\n",
    "\n",
    "clf.compile(optimizer = 'adam', loss = 'binary_crossentropy',\n",
    "                      metrics = ['accuracy'])"
   ]
  },
  {
   "cell_type": "code",
   "execution_count": 9,
   "metadata": {},
   "outputs": [
    {
     "output_type": "stream",
     "name": "stdout",
     "text": [
      "Found 5216 images belonging to 2 classes.\nFound 624 images belonging to 2 classes.\n"
     ]
    }
   ],
   "source": [
    "generator_train = ImageDataGenerator(rescale = 1./255,\n",
    "                                         rotation_range = 7,\n",
    "                                         horizontal_flip = True,\n",
    "                                         shear_range = 0.2,\n",
    "                                         height_shift_range = 0.07,\n",
    "                                         zoom_range = 0.2,\n",
    "                                         fill_mode='nearest')\n",
    "\n",
    "generator_test = ImageDataGenerator(rescale = 1./255)\n",
    "\n",
    "base_train = generator_train.flow_from_directory('train',\n",
    "                                                 target_size = (64, 64),\n",
    "                                                 batch_size = 32,\n",
    "                                                 class_mode = 'binary')\n",
    "\n",
    "base_test = generator_test.flow_from_directory('test',\n",
    "                                               target_size = (64, 64),\n",
    "                                               batch_size = 32,\n",
    "                                               class_mode = 'binary')"
   ]
  },
  {
   "cell_type": "code",
   "execution_count": 10,
   "metadata": {},
   "outputs": [
    {
     "output_type": "stream",
     "name": "stdout",
     "text": [
      "Epoch 1/50\n",
      "163/163 [==============================] - ETA: 0s - loss: 0.4068 - accuracy: 0.7880WARNING:tensorflow:Your input ran out of data; interrupting training. Make sure that your dataset or generator can generate at least `steps_per_epoch * epochs` batches (in this case, 624 batches). You may need to use the repeat() function when building your dataset.\n",
      "163/163 [==============================] - 155s 942ms/step - loss: 0.4063 - accuracy: 0.7884 - val_loss: 0.5688 - val_accuracy: 0.6378\n",
      "Epoch 2/50\n",
      "163/163 [==============================] - 124s 759ms/step - loss: 0.2559 - accuracy: 0.9051\n",
      "Epoch 3/50\n",
      "163/163 [==============================] - 112s 684ms/step - loss: 0.2172 - accuracy: 0.9174\n",
      "Epoch 4/50\n",
      "163/163 [==============================] - 109s 668ms/step - loss: 0.2353 - accuracy: 0.9062\n",
      "Epoch 5/50\n",
      "163/163 [==============================] - 103s 629ms/step - loss: 0.2040 - accuracy: 0.9286\n",
      "Epoch 6/50\n",
      "163/163 [==============================] - 98s 600ms/step - loss: 0.2112 - accuracy: 0.9307\n",
      "Epoch 7/50\n",
      "163/163 [==============================] - 103s 631ms/step - loss: 0.1550 - accuracy: 0.9469\n",
      "Epoch 8/50\n",
      "163/163 [==============================] - 119s 732ms/step - loss: 0.1721 - accuracy: 0.9377\n",
      "Epoch 9/50\n",
      "163/163 [==============================] - 111s 678ms/step - loss: 0.1621 - accuracy: 0.9380\n",
      "Epoch 10/50\n",
      "163/163 [==============================] - 100s 614ms/step - loss: 0.1547 - accuracy: 0.9423\n",
      "Epoch 11/50\n",
      "163/163 [==============================] - 105s 641ms/step - loss: 0.1510 - accuracy: 0.9506\n",
      "Epoch 12/50\n",
      "163/163 [==============================] - 100s 615ms/step - loss: 0.1590 - accuracy: 0.9442\n",
      "Epoch 13/50\n",
      "163/163 [==============================] - 97s 596ms/step - loss: 0.1497 - accuracy: 0.9499\n",
      "Epoch 14/50\n",
      "163/163 [==============================] - 98s 602ms/step - loss: 0.1441 - accuracy: 0.9547\n",
      "Epoch 15/50\n",
      "163/163 [==============================] - 97s 595ms/step - loss: 0.1558 - accuracy: 0.9495\n",
      "Epoch 16/50\n",
      "163/163 [==============================] - 96s 590ms/step - loss: 0.1355 - accuracy: 0.9575\n",
      "Epoch 17/50\n",
      "163/163 [==============================] - 97s 592ms/step - loss: 0.1375 - accuracy: 0.9533\n",
      "Epoch 18/50\n",
      "163/163 [==============================] - 96s 588ms/step - loss: 0.1443 - accuracy: 0.9513\n",
      "Epoch 19/50\n",
      "163/163 [==============================] - 96s 590ms/step - loss: 0.1245 - accuracy: 0.9597\n",
      "Epoch 20/50\n",
      "163/163 [==============================] - 96s 589ms/step - loss: 0.1294 - accuracy: 0.9541\n",
      "Epoch 21/50\n",
      "163/163 [==============================] - 97s 596ms/step - loss: 0.1387 - accuracy: 0.9538\n",
      "Epoch 22/50\n",
      "163/163 [==============================] - 118s 727ms/step - loss: 0.1240 - accuracy: 0.9571\n",
      "Epoch 23/50\n",
      "163/163 [==============================] - 167s 1s/step - loss: 0.1236 - accuracy: 0.9584\n",
      "Epoch 24/50\n",
      "163/163 [==============================] - 155s 949ms/step - loss: 0.1295 - accuracy: 0.9541\n",
      "Epoch 25/50\n",
      "163/163 [==============================] - 165s 1s/step - loss: 0.1165 - accuracy: 0.9583\n",
      "Epoch 26/50\n",
      "163/163 [==============================] - 184s 1s/step - loss: 0.1207 - accuracy: 0.9604\n",
      "Epoch 27/50\n",
      "163/163 [==============================] - 171s 1s/step - loss: 0.1224 - accuracy: 0.9564\n",
      "Epoch 28/50\n",
      "163/163 [==============================] - 140s 859ms/step - loss: 0.1175 - accuracy: 0.9601\n",
      "Epoch 29/50\n",
      "163/163 [==============================] - 134s 823ms/step - loss: 0.1094 - accuracy: 0.9620\n",
      "Epoch 30/50\n",
      "163/163 [==============================] - 131s 804ms/step - loss: 0.1302 - accuracy: 0.9603\n",
      "Epoch 31/50\n",
      "163/163 [==============================] - 157s 960ms/step - loss: 0.1276 - accuracy: 0.9583\n",
      "Epoch 32/50\n",
      "163/163 [==============================] - 158s 965ms/step - loss: 0.1186 - accuracy: 0.9606\n",
      "Epoch 33/50\n",
      "163/163 [==============================] - 139s 852ms/step - loss: 0.1078 - accuracy: 0.9624\n",
      "Epoch 34/50\n",
      " 76/163 [============>.................] - ETA: 58s - loss: 0.1157 - accuracy: 0.9558"
     ]
    },
    {
     "output_type": "error",
     "ename": "KeyboardInterrupt",
     "evalue": "",
     "traceback": [
      "\u001b[1;31m---------------------------------------------------------------------------\u001b[0m",
      "\u001b[1;31mKeyboardInterrupt\u001b[0m                         Traceback (most recent call last)",
      "\u001b[1;32m<ipython-input-10-2281055986ec>\u001b[0m in \u001b[0;36m<module>\u001b[1;34m\u001b[0m\n\u001b[1;32m----> 1\u001b[1;33m clf.fit_generator(base_train, steps_per_epoch = number_train/32,\n\u001b[0m\u001b[0;32m      2\u001b[0m                             \u001b[0mepochs\u001b[0m \u001b[1;33m=\u001b[0m \u001b[1;36m50\u001b[0m\u001b[1;33m,\u001b[0m \u001b[0mvalidation_data\u001b[0m \u001b[1;33m=\u001b[0m \u001b[0mbase_test\u001b[0m\u001b[1;33m,\u001b[0m\u001b[1;33m\u001b[0m\u001b[1;33m\u001b[0m\u001b[0m\n\u001b[0;32m      3\u001b[0m                             validation_steps = number_test, callbacks=False)\n",
      "\u001b[1;32m~\\anaconda3\\lib\\site-packages\\tensorflow\\python\\keras\\engine\\training.py\u001b[0m in \u001b[0;36mfit_generator\u001b[1;34m(self, generator, steps_per_epoch, epochs, verbose, callbacks, validation_data, validation_steps, validation_freq, class_weight, max_queue_size, workers, use_multiprocessing, shuffle, initial_epoch)\u001b[0m\n\u001b[0;32m   1845\u001b[0m                   \u001b[1;34m'will be removed in a future version. '\u001b[0m\u001b[1;33m\u001b[0m\u001b[1;33m\u001b[0m\u001b[0m\n\u001b[0;32m   1846\u001b[0m                   'Please use `Model.fit`, which supports generators.')\n\u001b[1;32m-> 1847\u001b[1;33m     return self.fit(\n\u001b[0m\u001b[0;32m   1848\u001b[0m         \u001b[0mgenerator\u001b[0m\u001b[1;33m,\u001b[0m\u001b[1;33m\u001b[0m\u001b[1;33m\u001b[0m\u001b[0m\n\u001b[0;32m   1849\u001b[0m         \u001b[0msteps_per_epoch\u001b[0m\u001b[1;33m=\u001b[0m\u001b[0msteps_per_epoch\u001b[0m\u001b[1;33m,\u001b[0m\u001b[1;33m\u001b[0m\u001b[1;33m\u001b[0m\u001b[0m\n",
      "\u001b[1;32m~\\anaconda3\\lib\\site-packages\\tensorflow\\python\\keras\\engine\\training.py\u001b[0m in \u001b[0;36mfit\u001b[1;34m(self, x, y, batch_size, epochs, verbose, callbacks, validation_split, validation_data, shuffle, class_weight, sample_weight, initial_epoch, steps_per_epoch, validation_steps, validation_batch_size, validation_freq, max_queue_size, workers, use_multiprocessing)\u001b[0m\n\u001b[0;32m   1098\u001b[0m                 _r=1):\n\u001b[0;32m   1099\u001b[0m               \u001b[0mcallbacks\u001b[0m\u001b[1;33m.\u001b[0m\u001b[0mon_train_batch_begin\u001b[0m\u001b[1;33m(\u001b[0m\u001b[0mstep\u001b[0m\u001b[1;33m)\u001b[0m\u001b[1;33m\u001b[0m\u001b[1;33m\u001b[0m\u001b[0m\n\u001b[1;32m-> 1100\u001b[1;33m               \u001b[0mtmp_logs\u001b[0m \u001b[1;33m=\u001b[0m \u001b[0mself\u001b[0m\u001b[1;33m.\u001b[0m\u001b[0mtrain_function\u001b[0m\u001b[1;33m(\u001b[0m\u001b[0miterator\u001b[0m\u001b[1;33m)\u001b[0m\u001b[1;33m\u001b[0m\u001b[1;33m\u001b[0m\u001b[0m\n\u001b[0m\u001b[0;32m   1101\u001b[0m               \u001b[1;32mif\u001b[0m \u001b[0mdata_handler\u001b[0m\u001b[1;33m.\u001b[0m\u001b[0mshould_sync\u001b[0m\u001b[1;33m:\u001b[0m\u001b[1;33m\u001b[0m\u001b[1;33m\u001b[0m\u001b[0m\n\u001b[0;32m   1102\u001b[0m                 \u001b[0mcontext\u001b[0m\u001b[1;33m.\u001b[0m\u001b[0masync_wait\u001b[0m\u001b[1;33m(\u001b[0m\u001b[1;33m)\u001b[0m\u001b[1;33m\u001b[0m\u001b[1;33m\u001b[0m\u001b[0m\n",
      "\u001b[1;32m~\\anaconda3\\lib\\site-packages\\tensorflow\\python\\eager\\def_function.py\u001b[0m in \u001b[0;36m__call__\u001b[1;34m(self, *args, **kwds)\u001b[0m\n\u001b[0;32m    826\u001b[0m     \u001b[0mtracing_count\u001b[0m \u001b[1;33m=\u001b[0m \u001b[0mself\u001b[0m\u001b[1;33m.\u001b[0m\u001b[0mexperimental_get_tracing_count\u001b[0m\u001b[1;33m(\u001b[0m\u001b[1;33m)\u001b[0m\u001b[1;33m\u001b[0m\u001b[1;33m\u001b[0m\u001b[0m\n\u001b[0;32m    827\u001b[0m     \u001b[1;32mwith\u001b[0m \u001b[0mtrace\u001b[0m\u001b[1;33m.\u001b[0m\u001b[0mTrace\u001b[0m\u001b[1;33m(\u001b[0m\u001b[0mself\u001b[0m\u001b[1;33m.\u001b[0m\u001b[0m_name\u001b[0m\u001b[1;33m)\u001b[0m \u001b[1;32mas\u001b[0m \u001b[0mtm\u001b[0m\u001b[1;33m:\u001b[0m\u001b[1;33m\u001b[0m\u001b[1;33m\u001b[0m\u001b[0m\n\u001b[1;32m--> 828\u001b[1;33m       \u001b[0mresult\u001b[0m \u001b[1;33m=\u001b[0m \u001b[0mself\u001b[0m\u001b[1;33m.\u001b[0m\u001b[0m_call\u001b[0m\u001b[1;33m(\u001b[0m\u001b[1;33m*\u001b[0m\u001b[0margs\u001b[0m\u001b[1;33m,\u001b[0m \u001b[1;33m**\u001b[0m\u001b[0mkwds\u001b[0m\u001b[1;33m)\u001b[0m\u001b[1;33m\u001b[0m\u001b[1;33m\u001b[0m\u001b[0m\n\u001b[0m\u001b[0;32m    829\u001b[0m       \u001b[0mcompiler\u001b[0m \u001b[1;33m=\u001b[0m \u001b[1;34m\"xla\"\u001b[0m \u001b[1;32mif\u001b[0m \u001b[0mself\u001b[0m\u001b[1;33m.\u001b[0m\u001b[0m_experimental_compile\u001b[0m \u001b[1;32melse\u001b[0m \u001b[1;34m\"nonXla\"\u001b[0m\u001b[1;33m\u001b[0m\u001b[1;33m\u001b[0m\u001b[0m\n\u001b[0;32m    830\u001b[0m       \u001b[0mnew_tracing_count\u001b[0m \u001b[1;33m=\u001b[0m \u001b[0mself\u001b[0m\u001b[1;33m.\u001b[0m\u001b[0mexperimental_get_tracing_count\u001b[0m\u001b[1;33m(\u001b[0m\u001b[1;33m)\u001b[0m\u001b[1;33m\u001b[0m\u001b[1;33m\u001b[0m\u001b[0m\n",
      "\u001b[1;32m~\\anaconda3\\lib\\site-packages\\tensorflow\\python\\eager\\def_function.py\u001b[0m in \u001b[0;36m_call\u001b[1;34m(self, *args, **kwds)\u001b[0m\n\u001b[0;32m    853\u001b[0m       \u001b[1;31m# In this case we have created variables on the first call, so we run the\u001b[0m\u001b[1;33m\u001b[0m\u001b[1;33m\u001b[0m\u001b[1;33m\u001b[0m\u001b[0m\n\u001b[0;32m    854\u001b[0m       \u001b[1;31m# defunned version which is guaranteed to never create variables.\u001b[0m\u001b[1;33m\u001b[0m\u001b[1;33m\u001b[0m\u001b[1;33m\u001b[0m\u001b[0m\n\u001b[1;32m--> 855\u001b[1;33m       \u001b[1;32mreturn\u001b[0m \u001b[0mself\u001b[0m\u001b[1;33m.\u001b[0m\u001b[0m_stateless_fn\u001b[0m\u001b[1;33m(\u001b[0m\u001b[1;33m*\u001b[0m\u001b[0margs\u001b[0m\u001b[1;33m,\u001b[0m \u001b[1;33m**\u001b[0m\u001b[0mkwds\u001b[0m\u001b[1;33m)\u001b[0m  \u001b[1;31m# pylint: disable=not-callable\u001b[0m\u001b[1;33m\u001b[0m\u001b[1;33m\u001b[0m\u001b[0m\n\u001b[0m\u001b[0;32m    856\u001b[0m     \u001b[1;32melif\u001b[0m \u001b[0mself\u001b[0m\u001b[1;33m.\u001b[0m\u001b[0m_stateful_fn\u001b[0m \u001b[1;32mis\u001b[0m \u001b[1;32mnot\u001b[0m \u001b[1;32mNone\u001b[0m\u001b[1;33m:\u001b[0m\u001b[1;33m\u001b[0m\u001b[1;33m\u001b[0m\u001b[0m\n\u001b[0;32m    857\u001b[0m       \u001b[1;31m# Release the lock early so that multiple threads can perform the call\u001b[0m\u001b[1;33m\u001b[0m\u001b[1;33m\u001b[0m\u001b[1;33m\u001b[0m\u001b[0m\n",
      "\u001b[1;32m~\\anaconda3\\lib\\site-packages\\tensorflow\\python\\eager\\function.py\u001b[0m in \u001b[0;36m__call__\u001b[1;34m(self, *args, **kwargs)\u001b[0m\n\u001b[0;32m   2940\u001b[0m       (graph_function,\n\u001b[0;32m   2941\u001b[0m        filtered_flat_args) = self._maybe_define_function(args, kwargs)\n\u001b[1;32m-> 2942\u001b[1;33m     return graph_function._call_flat(\n\u001b[0m\u001b[0;32m   2943\u001b[0m         filtered_flat_args, captured_inputs=graph_function.captured_inputs)  # pylint: disable=protected-access\n\u001b[0;32m   2944\u001b[0m \u001b[1;33m\u001b[0m\u001b[0m\n",
      "\u001b[1;32m~\\anaconda3\\lib\\site-packages\\tensorflow\\python\\eager\\function.py\u001b[0m in \u001b[0;36m_call_flat\u001b[1;34m(self, args, captured_inputs, cancellation_manager)\u001b[0m\n\u001b[0;32m   1916\u001b[0m         and executing_eagerly):\n\u001b[0;32m   1917\u001b[0m       \u001b[1;31m# No tape is watching; skip to running the function.\u001b[0m\u001b[1;33m\u001b[0m\u001b[1;33m\u001b[0m\u001b[1;33m\u001b[0m\u001b[0m\n\u001b[1;32m-> 1918\u001b[1;33m       return self._build_call_outputs(self._inference_function.call(\n\u001b[0m\u001b[0;32m   1919\u001b[0m           ctx, args, cancellation_manager=cancellation_manager))\n\u001b[0;32m   1920\u001b[0m     forward_backward = self._select_forward_and_backward_functions(\n",
      "\u001b[1;32m~\\anaconda3\\lib\\site-packages\\tensorflow\\python\\eager\\function.py\u001b[0m in \u001b[0;36mcall\u001b[1;34m(self, ctx, args, cancellation_manager)\u001b[0m\n\u001b[0;32m    553\u001b[0m       \u001b[1;32mwith\u001b[0m \u001b[0m_InterpolateFunctionError\u001b[0m\u001b[1;33m(\u001b[0m\u001b[0mself\u001b[0m\u001b[1;33m)\u001b[0m\u001b[1;33m:\u001b[0m\u001b[1;33m\u001b[0m\u001b[1;33m\u001b[0m\u001b[0m\n\u001b[0;32m    554\u001b[0m         \u001b[1;32mif\u001b[0m \u001b[0mcancellation_manager\u001b[0m \u001b[1;32mis\u001b[0m \u001b[1;32mNone\u001b[0m\u001b[1;33m:\u001b[0m\u001b[1;33m\u001b[0m\u001b[1;33m\u001b[0m\u001b[0m\n\u001b[1;32m--> 555\u001b[1;33m           outputs = execute.execute(\n\u001b[0m\u001b[0;32m    556\u001b[0m               \u001b[0mstr\u001b[0m\u001b[1;33m(\u001b[0m\u001b[0mself\u001b[0m\u001b[1;33m.\u001b[0m\u001b[0msignature\u001b[0m\u001b[1;33m.\u001b[0m\u001b[0mname\u001b[0m\u001b[1;33m)\u001b[0m\u001b[1;33m,\u001b[0m\u001b[1;33m\u001b[0m\u001b[1;33m\u001b[0m\u001b[0m\n\u001b[0;32m    557\u001b[0m               \u001b[0mnum_outputs\u001b[0m\u001b[1;33m=\u001b[0m\u001b[0mself\u001b[0m\u001b[1;33m.\u001b[0m\u001b[0m_num_outputs\u001b[0m\u001b[1;33m,\u001b[0m\u001b[1;33m\u001b[0m\u001b[1;33m\u001b[0m\u001b[0m\n",
      "\u001b[1;32m~\\anaconda3\\lib\\site-packages\\tensorflow\\python\\eager\\execute.py\u001b[0m in \u001b[0;36mquick_execute\u001b[1;34m(op_name, num_outputs, inputs, attrs, ctx, name)\u001b[0m\n\u001b[0;32m     57\u001b[0m   \u001b[1;32mtry\u001b[0m\u001b[1;33m:\u001b[0m\u001b[1;33m\u001b[0m\u001b[1;33m\u001b[0m\u001b[0m\n\u001b[0;32m     58\u001b[0m     \u001b[0mctx\u001b[0m\u001b[1;33m.\u001b[0m\u001b[0mensure_initialized\u001b[0m\u001b[1;33m(\u001b[0m\u001b[1;33m)\u001b[0m\u001b[1;33m\u001b[0m\u001b[1;33m\u001b[0m\u001b[0m\n\u001b[1;32m---> 59\u001b[1;33m     tensors = pywrap_tfe.TFE_Py_Execute(ctx._handle, device_name, op_name,\n\u001b[0m\u001b[0;32m     60\u001b[0m                                         inputs, attrs, num_outputs)\n\u001b[0;32m     61\u001b[0m   \u001b[1;32mexcept\u001b[0m \u001b[0mcore\u001b[0m\u001b[1;33m.\u001b[0m\u001b[0m_NotOkStatusException\u001b[0m \u001b[1;32mas\u001b[0m \u001b[0me\u001b[0m\u001b[1;33m:\u001b[0m\u001b[1;33m\u001b[0m\u001b[1;33m\u001b[0m\u001b[0m\n",
      "\u001b[1;31mKeyboardInterrupt\u001b[0m: "
     ]
    }
   ],
   "source": [
    "model = clf.fit_generator(base_train, steps_per_epoch = number_train/32,\n",
    "                            epochs = 100, validation_data = base_test,\n",
    "                            validation_steps = number_test, callbacks=False)"
   ]
  },
  {
   "cell_type": "code",
   "execution_count": null,
   "metadata": {},
   "outputs": [],
   "source": [
    "# showing the cnn structure\n",
    "print(clf.summary())"
   ]
  },
  {
   "cell_type": "code",
   "execution_count": null,
   "metadata": {},
   "outputs": [],
   "source": [
    "# summarize history for accuracy\n",
    "plt.plot(model.history['accuracy'])\n",
    "plt.title('Model Accuracy' , size =16 , weight = 'bold')\n",
    "plt.ylabel('Accuracy' , size = 13 , weight = 'bold')\n",
    "plt.xlabel('Epoch' , size =13 , weight = 'bold')\n",
    "plt.grid()\n",
    "plt.show()"
   ]
  },
  {
   "cell_type": "code",
   "execution_count": null,
   "metadata": {},
   "outputs": [],
   "source": [
    "# summarize history for loss\n",
    "plt.plot(model.history['loss'] , color='red')\n",
    "plt.title('Model Loss')\n",
    "plt.ylabel('Loss')\n",
    "plt.xlabel('Epoch')\n",
    "plt.grid()\n",
    "plt.show()"
   ]
  },
  {
   "cell_type": "code",
   "execution_count": null,
   "metadata": {},
   "outputs": [],
   "source": [
    "# normal xray example\n",
    "img = mpimg.imread('val/'+val_files[0])\n",
    "imgplot = plt.imshow(img)\n",
    "plt.title('X-Ray of Normal Lung' , size = 15 , weight = 'bold')\n",
    "plt.show()"
   ]
  },
  {
   "cell_type": "code",
   "execution_count": null,
   "metadata": {},
   "outputs": [],
   "source": [
    "# sick xray example\n",
    "img = mpimg.imread('val/'+val_files[11])\n",
    "imgplot = plt.imshow(img)\n",
    "plt.title('X-Ray of Sick Lung (Pneumonia)' , size = 15 , weight = 'bold')\n",
    "plt.show()"
   ]
  },
  {
   "cell_type": "code",
   "execution_count": null,
   "metadata": {},
   "outputs": [],
   "source": [
    "final_predict = []\n",
    "\n",
    "tqdm.pandas()\n",
    "for i in tqdm(range(0, len(val_files), 1)):\n",
    "    img_test = image.load_img('val/'+val_files[i] ,\n",
    "                                  target_size = (64,64))\n",
    "    img_test = image.img_to_array(img_test)\n",
    "    img_test /= 255\n",
    "    img_test = np.expand_dims(img_test, axis = 0)\n",
    "    previsao = clf.predict(img_test)\n",
    "    final_predict.append(previsao[0][0])"
   ]
  },
  {
   "cell_type": "code",
   "execution_count": null,
   "metadata": {},
   "outputs": [],
   "source": [
    "df = pd.DataFrame({'id':id , 'label':result , 'predict':final_predict})"
   ]
  },
  {
   "cell_type": "code",
   "execution_count": null,
   "metadata": {},
   "outputs": [],
   "source": [
    "print(base_train.class_indices)"
   ]
  },
  {
   "cell_type": "code",
   "execution_count": null,
   "metadata": {},
   "outputs": [],
   "source": [
    "df['predict'] = df['predict'].apply(lambda x: 1 if x > 0.5 else 0)"
   ]
  },
  {
   "cell_type": "code",
   "execution_count": null,
   "metadata": {},
   "outputs": [],
   "source": [
    "acc = accuracy_score(df['label'] ,df['predict']) \n",
    "print('CNN Accuracy: ',acc*100, '%')"
   ]
  },
  {
   "cell_type": "code",
   "execution_count": null,
   "metadata": {},
   "outputs": [],
   "source": [
    "# confusion matrix\n",
    "cm = confusion_matrix(df['label'] ,df['predict'] )\n",
    "sns.heatmap(cm, annot=True , cmap ='magma')\n",
    "plt.title('Confusion Matrix' , size = 15 , weight = 'bold')\n",
    "plt.show()"
   ]
  }
 ]
}